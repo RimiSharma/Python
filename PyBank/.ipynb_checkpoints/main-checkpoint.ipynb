{
 "cells": [
  {
   "cell_type": "code",
   "execution_count": 1,
   "metadata": {},
   "outputs": [],
   "source": [
    "from pathlib import path \n",
    "import csv\n",
    "\n",
    "#Set the csv path\n",
    "\n",
    "csvpath = Path(/Users/rimisharma/Documents/python-homework/PyBank/02-Homework_02-Python_PyBank_Resources_budget_data.csv)\n",
    "\n",
    "#Initialize dictionary\n",
    "\n",
    "analysis = {}\n",
    "\n",
    "with open(csvpath, \"r\") as csvfile:\n",
    "    \n",
    "    csvreader = csv.reader(csvfile, delimeter=\",\")\n",
    "    \n",
    "    csv_header = next(csvreader)\n",
    "    \n",
    "    print(csv_header)\n",
    "    \n",
    "    for row in csvreader:\n",
    "        \n",
    "        print(row)\n",
    "        \n",
    "        Date = row[0]\n",
    "        Profit/Losses = int(row[1])\n",
    "\n"
   ]
  },
  {
   "cell_type": "code",
   "execution_count": null,
   "metadata": {},
   "outputs": [],
   "source": []
  }
 ],
 "metadata": {
  "kernelspec": {
   "display_name": "Python 3",
   "language": "python",
   "name": "python3"
  },
  "language_info": {
   "codemirror_mode": {
    "name": "ipython",
    "version": 3
   },
   "file_extension": ".py",
   "mimetype": "text/x-python",
   "name": "python",
   "nbconvert_exporter": "python",
   "pygments_lexer": "ipython3",
   "version": "3.8.3"
  }
 },
 "nbformat": 4,
 "nbformat_minor": 4
}
